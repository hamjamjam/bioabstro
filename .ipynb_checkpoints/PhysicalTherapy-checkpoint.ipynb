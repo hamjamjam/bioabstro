{
 "cells": [
  {
   "cell_type": "code",
   "execution_count": 25,
   "metadata": {},
   "outputs": [],
   "source": [
    "import random"
   ]
  },
  {
   "cell_type": "code",
   "execution_count": 36,
   "metadata": {},
   "outputs": [],
   "source": [
    "# Library of dictionaries containing our exercises\n",
    "# Grouped by exercise type\n",
    "# Exercises done in pairs (e.g. side plank) are denoted by a '2'\n",
    "# Lower back exercises are not included in the final dictionary (my personal preference)\n",
    "\n",
    "upperAbs = {\"Sit ups\":1,\n",
    "    \"Cyclers\":1,\n",
    "    \"V-ups\":1,\n",
    "    \"Scullers\":1,\n",
    "    \"V-Rocks\":1,\n",
    "    \"Crunches\":1,\n",
    "    \"Dead-bug\":1,\n",
    "    \"Leg-climbers\": 2\n",
    "}\n",
    "\n",
    "lowerAbs = {\n",
    "    \"Flutter Kicks\":1,\n",
    "    \"Leg Lowers\":1,\n",
    "    \"Alternate Leg Raise\":1\n",
    "}\n",
    "\n",
    "oblique = {\n",
    "    \"Windshield Wipers\":1,\n",
    "    \"Dumbell Plank Lat Drag\":1,\n",
    "    \"Side Bend\":2,\n",
    "    \"Penguins\":1,\n",
    "    \"Seated Twist\":1,\n",
    "    \"Side Plank\":2,\n",
    "    \"Side Crunches\": 2\n",
    "    }\n",
    "\n",
    "lowerBack = {\n",
    "    \"Supermans\":2,\n",
    "    \"Kneeling Arm Leg Raise\":2,\n",
    "    \"Single Leg Bridge\":2\n",
    "    }\n",
    "\n",
    "longExtension = {\n",
    "    \"Ab rollers\":1,\n",
    "    \"Destabilized planks\":1,\n",
    "    \"Plank uppy downs\":1,\n",
    "    \"Body saws\":1,\n",
    "    \"Plank\":1,\n",
    "    \"Spidermans\":1,\n",
    "    \"Push-ups\":1\n",
    "    }\n",
    "\n",
    "exerciseTypes = {\"Upper abs\": upperAbs,\n",
    "    \"Lower abs\": lowerAbs,\n",
    "    \"Obliques\": oblique,\n",
    "    \"long extension\": longExtension,\n",
    "    \"Lower back\": lowerBack\n",
    "                }\n"
   ]
  },
  {
   "cell_type": "code",
   "execution_count": 37,
   "metadata": {},
   "outputs": [],
   "source": [
    "# functions to randomly pick our exercises\n",
    "\n",
    "def pickExercise(newExercises, todaysExercises):\n",
    "    possibleNewExercises = newExercises.difference(set(todaysExercises))\n",
    "    if possibleNewExercises == set():\n",
    "        possibleNewExercises = newExercises\n",
    "    pickedExercise = random.choice(list(possibleNewExercises))\n",
    "    return pickedExercise\n",
    "\n",
    "def getnewExercise(exerciseTypeName, todaysExercises):\n",
    "    newExercises = set(exerciseTypes[exerciseTypeName].keys())\n",
    "    newExercise = pickExercise(newExercises, todaysExercises)\n",
    "    reps = exerciseTypes[exerciseTypeName][newExercise]\n",
    "    return newExercise, reps\n",
    "\n",
    "#when we have just one more exercise left to pick\n",
    "def getSingleExercise(exerciseTypeName, todaysExercises):\n",
    "    myDict = exerciseTypes[exerciseTypeName]\n",
    "    singleRepExercises = {k: v for k, v in myDict.items() if v==1}\n",
    "    newExercises = set(singleRepExercises.keys())\n",
    "    singleExercise = pickExercise(newExercises, todaysExercises)\n",
    "    return singleExercise\n"
   ]
  },
  {
   "cell_type": "code",
   "execution_count": 40,
   "metadata": {},
   "outputs": [],
   "source": [
    "#the only other user input: how many exercises we want to generate!\n",
    "numberOfExercises = 20\n",
    "\n",
    "secondsOn = 50\n",
    "secondsOff = 10\n",
    "\n",
    "random.seed()\n",
    "\n",
    "exerciseTypeList = list(exerciseTypes.keys())\n",
    "random.shuffle(exerciseTypeList)\n",
    "\n",
    "todaysExercises = []\n",
    "i=0\n",
    "while len(todaysExercises) < numberOfExercises:\n",
    "    exerciseTypeIndex = i % len(exerciseTypeList)\n",
    "    exerciseTypeName = exerciseTypeList[exerciseTypeIndex]\n",
    "    \n",
    "    if len(todaysExercises) < numberOfExercises-1:\n",
    "        newExercise, reps = getnewExercise(exerciseTypeName, todaysExercises)\n",
    "        for k in range(0,reps):\n",
    "            todaysExercises.append(newExercise)\n",
    "    else:\n",
    "        newExercise = getSingleExercise(exerciseTypeName, todaysExercises)\n",
    "        todaysExercises.append(newExercise)\n",
    "    i+=1"
   ]
  },
  {
   "cell_type": "code",
   "execution_count": 41,
   "metadata": {},
   "outputs": [
    {
     "data": {
      "text/plain": [
       "['Single Leg Bridge',\n",
       " 'Single Leg Bridge',\n",
       " 'Plank',\n",
       " 'Side Crunches',\n",
       " 'Side Crunches',\n",
       " 'Leg-climbers',\n",
       " 'Leg-climbers',\n",
       " 'Flutter Kicks',\n",
       " 'Kneeling Arm Leg Raise',\n",
       " 'Kneeling Arm Leg Raise',\n",
       " 'Destabilized planks',\n",
       " 'Side Plank',\n",
       " 'Side Plank',\n",
       " 'Sit ups',\n",
       " 'Alternate Leg Raise',\n",
       " 'Supermans',\n",
       " 'Body saws',\n",
       " 'Penguins',\n",
       " 'Crunches',\n",
       " 'Leg Lowers']"
      ]
     },
     "execution_count": 41,
     "metadata": {},
     "output_type": "execute_result"
    }
   ],
   "source": [
    "todaysExercises"
   ]
  },
  {
   "cell_type": "code",
   "execution_count": null,
   "metadata": {},
   "outputs": [],
   "source": []
  }
 ],
 "metadata": {
  "kernelspec": {
   "display_name": "Python 3",
   "language": "python",
   "name": "python3"
  },
  "language_info": {
   "codemirror_mode": {
    "name": "ipython",
    "version": 3
   },
   "file_extension": ".py",
   "mimetype": "text/x-python",
   "name": "python",
   "nbconvert_exporter": "python",
   "pygments_lexer": "ipython3",
   "version": "3.7.1"
  }
 },
 "nbformat": 4,
 "nbformat_minor": 2
}
