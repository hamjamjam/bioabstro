{
 "cells": [
  {
   "cell_type": "code",
   "execution_count": 35,
   "metadata": {},
   "outputs": [],
   "source": [
    "import random"
   ]
  },
  {
   "cell_type": "code",
   "execution_count": 36,
   "metadata": {},
   "outputs": [],
   "source": [
    "# Library of dictionaries containing our exercises\n",
    "# Grouped by exercise type\n",
    "# Exercises done in pairs (e.g. side plank) are denoted by a '2'\n",
    "# Lower back exercises are not included in the final dictionary (my personal preference)\n",
    "\n",
    "quads = {\"Squats\": (1, 100),\n",
    "         \"Step Downs\": (3, 15),\n",
    "         \"Single leg sit to stand\": (3, 15)\n",
    "}\n",
    "\n",
    "hamstrings = {\n",
    "    \"theraband curls\":(3, 15),\n",
    "    \"butt burners\": (3, 15),\n",
    "    \"kickstand deadlift\": (2, 15),\n",
    "    \"forward lean\": (2, 15)\n",
    "    \n",
    "}\n",
    "\n",
    "calves = {\n",
    "    \"Single calf raise\": (2, 30),\n",
    "    }\n",
    "\n",
    "balance = {\n",
    "    \"Pillow stand\": (1, 30)\n",
    "    }\n",
    "\n",
    "hips = {\n",
    "    \"barre abduction\": (2, 24),\n",
    "    \"green therband abduction\": (6, 15),\n",
    "    \"side plank\": (2, 60),\n",
    "    \"side plank knee down\": (2, 60),\n",
    "    \"green theraband adduction\": (6, 15)\n",
    "}\n",
    "\n",
    "exerciseTypes = {\"quads\": quads,\n",
    "                 \"hamstrings\": hamstrings,\n",
    "                 \"calves\": calves,\n",
    "                 \"balance\": balance,\n",
    "                 \"hips\": hips\n",
    "                }\n"
   ]
  },
  {
   "cell_type": "code",
   "execution_count": 37,
   "metadata": {},
   "outputs": [],
   "source": [
    "# functions to randomly pick our exercises\n",
    "\n",
    "def pickExercise(newExercises, todaysExercises):\n",
    "    possibleNewExercises = newExercises.difference(set(todaysExercises))\n",
    "    if possibleNewExercises == set():\n",
    "        possibleNewExercises = newExercises\n",
    "    pickedExercise = random.choice(list(possibleNewExercises))\n",
    "    return pickedExercise\n",
    "\n",
    "def getnewExercise(exerciseTypeName, todaysExercises):\n",
    "    newExercises = set(exerciseTypes[exerciseTypeName].keys())\n",
    "    newExercise = pickExercise(newExercises, todaysExercises)\n",
    "    (sets, reps) = exerciseTypes[exerciseTypeName][newExercise]\n",
    "    return newExercise, sets, reps\n"
   ]
  },
  {
   "cell_type": "code",
   "execution_count": 38,
   "metadata": {},
   "outputs": [
    {
     "name": "stdout",
     "output_type": "stream",
     "text": [
      "Single calf raise do 2 sets of 30 reps (or seconds)\n",
      "green therband abduction do 6 sets of 15 reps (or seconds)\n",
      "Step Downs do 3 sets of 15 reps (or seconds)\n",
      "Pillow stand do 1 sets of 30 reps (or seconds)\n",
      "forward lean do 2 sets of 15 reps (or seconds)\n"
     ]
    }
   ],
   "source": [
    "#the only other user input: how many exercises we want to generate!\n",
    "numberOfExercises = 5\n",
    "\n",
    "random.seed()\n",
    "\n",
    "exerciseTypeList = list(exerciseTypes.keys())\n",
    "random.shuffle(exerciseTypeList)\n",
    "\n",
    "todaysExercises = []\n",
    "\n",
    "for i in range(0, numberOfExercises):\n",
    "    exerciseTypeIndex = i % len(exerciseTypeList)\n",
    "    exerciseTypeName = exerciseTypeList[exerciseTypeIndex]\n",
    "    newExercise, sets, reps = getnewExercise(exerciseTypeName, todaysExercises)\n",
    "    print(newExercise, \"do\", sets, \"sets of\", reps, \"reps (or seconds)\")\n"
   ]
  },
  {
   "cell_type": "code",
   "execution_count": null,
   "metadata": {},
   "outputs": [],
   "source": []
  }
 ],
 "metadata": {
  "kernelspec": {
   "display_name": "Python 3",
   "language": "python",
   "name": "python3"
  },
  "language_info": {
   "codemirror_mode": {
    "name": "ipython",
    "version": 3
   },
   "file_extension": ".py",
   "mimetype": "text/x-python",
   "name": "python",
   "nbconvert_exporter": "python",
   "pygments_lexer": "ipython3",
   "version": "3.7.1"
  }
 },
 "nbformat": 4,
 "nbformat_minor": 2
}
