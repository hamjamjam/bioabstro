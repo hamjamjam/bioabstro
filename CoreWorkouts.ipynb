{
 "cells": [
  {
   "cell_type": "code",
   "execution_count": 147,
   "metadata": {},
   "outputs": [],
   "source": [
    "import random"
   ]
  },
  {
   "cell_type": "code",
   "execution_count": 148,
   "metadata": {},
   "outputs": [],
   "source": [
    "# Library of dictionaries containing our exercises\n",
    "# Grouped by exercise type\n",
    "# Exercises done in pairs (e.g. side plank) are denoted by a '2'\n",
    "# Lower back exercises are not included in the final dictionary (my personal preference)\n",
    "\n",
    "upperAbs = {\"Sit ups\":1,\n",
    "    \"Cyclers\":1,\n",
    "    \"V-ups\":1,\n",
    "    \"Scullers\":1,\n",
    "    \"V-Rocks\":1,\n",
    "    \"Crunches\":1,\n",
    "    \"Dead-bug\":1,\n",
    "    \"Leg-climbers\": 2\n",
    "}\n",
    "\n",
    "lowerAbs = {\n",
    "    \"Flutter Kicks\":1,\n",
    "    \"Leg Lowers\":1,\n",
    "    \"Alternate Leg Raise\":1,\n",
    "    \"Starfish\":1,\n",
    "    \"Scissors\":1,\n",
    "    \"Reverse crunch\": 1\n",
    "}\n",
    "\n",
    "oblique = {\n",
    "    \"Windshield Wipers\":1,\n",
    "    \"Side Bend\":2,\n",
    "    \"Penguins\":1,\n",
    "    \"Seated Twist\":1,\n",
    "    \"Side Plank\":2,\n",
    "    \"Side Crunches\": 2\n",
    "    }\n",
    "\n",
    "lowerBack = {\n",
    "    \"Supermans\":1,\n",
    "    \"Kneeling Arm Leg Raise\":2,\n",
    "    \"Single Leg Bridge\":2\n",
    "    }\n",
    "\n",
    "longExtension = {\n",
    "    \"Ab rollers\":1,\n",
    "    \"Destabilized planks\":1,\n",
    "    \"Plank uppy downs\":1,\n",
    "    \"Body saws\":1,\n",
    "    \"Plank\":1,\n",
    "    \"Spidermans\":1,\n",
    "    \"Dumbell Plank Lat Drag\":1,\n",
    "    \"Push-ups\":1\n",
    "    }\n",
    "\n",
    "exerciseTypes = {\"Upper abs\": upperAbs,\n",
    "    \"Lower abs\": lowerAbs,\n",
    "    \"Obliques\": oblique,\n",
    "    \"long extension\": longExtension,\n",
    "    \"Lower back\": lowerBack\n",
    "                }\n"
   ]
  },
  {
   "cell_type": "code",
   "execution_count": 149,
   "metadata": {},
   "outputs": [],
   "source": [
    "# functions to randomly pick our exercises\n",
    "\n",
    "def pickExercise(newExercises, todaysExercises):\n",
    "    possibleNewExercises = newExercises.difference(set(todaysExercises))\n",
    "    if possibleNewExercises == set():\n",
    "        possibleNewExercises = newExercises\n",
    "    pickedExercise = random.choice(list(possibleNewExercises))\n",
    "    return pickedExercise\n",
    "\n",
    "def getnewExercise(exerciseTypeName, todaysExercises):\n",
    "    newExercises = set(exerciseTypes[exerciseTypeName].keys())\n",
    "    newExercise = pickExercise(newExercises, todaysExercises)\n",
    "    reps = exerciseTypes[exerciseTypeName][newExercise]\n",
    "    return newExercise, reps\n",
    "\n",
    "#when we have just one more exercise left to pick\n",
    "def getSingleExercise(exerciseTypeName, todaysExercises):\n",
    "    myDict = exerciseTypes[exerciseTypeName]\n",
    "    singleRepExercises = {k: v for k, v in myDict.items() if v==1}\n",
    "    newExercises = set(singleRepExercises.keys())\n",
    "    singleExercise = pickExercise(newExercises, todaysExercises)\n",
    "    return singleExercise\n"
   ]
  },
  {
   "cell_type": "code",
   "execution_count": 152,
   "metadata": {},
   "outputs": [],
   "source": [
    "#the only other user input: how many exercises we want to generate!\n",
    "numberOfExercises = 20\n",
    "\n",
    "secondsOn = 50\n",
    "secondsOff = 10\n",
    "\n",
    "random.seed()\n",
    "\n",
    "exerciseTypeList = list(exerciseTypes.keys())\n",
    "random.shuffle(exerciseTypeList)\n",
    "\n",
    "repeatExerciseTypeList = int(numberOfExercises/len(exerciseTypeList))\n",
    "exerciseTypeListRepeated = exerciseTypeList*(repeatExerciseTypeList+1)\n",
    "\n",
    "todaysExercises = []\n",
    "while len(todaysExercises) < numberOfExercises:\n",
    "    exerciseTypeName = exerciseTypeListRepeated.pop(0)\n",
    "    \n",
    "    if len(todaysExercises) < numberOfExercises-1:\n",
    "        newExercise, reps = getnewExercise(exerciseTypeName, todaysExercises)\n",
    "        for k in range(0,reps):\n",
    "            todaysExercises.append(newExercise)\n",
    "        if reps > 1:\n",
    "            try:\n",
    "                exerciseTypeListRepeated.remove(exerciseTypeName)\n",
    "            except:\n",
    "                continue\n",
    "    else:\n",
    "        newExercise = getSingleExercise(exerciseTypeName, todaysExercises)\n",
    "        todaysExercises.append(newExercise)"
   ]
  },
  {
   "cell_type": "code",
   "execution_count": 153,
   "metadata": {},
   "outputs": [
    {
     "data": {
      "text/plain": [
       "['Side Plank',\n",
       " 'Side Plank',\n",
       " 'Alternate Leg Raise',\n",
       " 'Body saws',\n",
       " 'Supermans',\n",
       " 'Crunches',\n",
       " 'Flutter Kicks',\n",
       " 'Plank',\n",
       " 'Single Leg Bridge',\n",
       " 'Single Leg Bridge',\n",
       " 'Scullers',\n",
       " 'Side Crunches',\n",
       " 'Side Crunches',\n",
       " 'Reverse crunch',\n",
       " 'Push-ups',\n",
       " 'Cyclers',\n",
       " 'Leg Lowers',\n",
       " 'Spidermans',\n",
       " 'Kneeling Arm Leg Raise',\n",
       " 'Kneeling Arm Leg Raise']"
      ]
     },
     "execution_count": 153,
     "metadata": {},
     "output_type": "execute_result"
    }
   ],
   "source": [
    "todaysExercises"
   ]
  },
  {
   "cell_type": "code",
   "execution_count": null,
   "metadata": {},
   "outputs": [],
   "source": []
  }
 ],
 "metadata": {
  "kernelspec": {
   "display_name": "Python 3",
   "language": "python",
   "name": "python3"
  },
  "language_info": {
   "codemirror_mode": {
    "name": "ipython",
    "version": 3
   },
   "file_extension": ".py",
   "mimetype": "text/x-python",
   "name": "python",
   "nbconvert_exporter": "python",
   "pygments_lexer": "ipython3",
   "version": "3.7.1"
  }
 },
 "nbformat": 4,
 "nbformat_minor": 2
}
