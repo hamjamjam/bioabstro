{
 "cells": [
  {
   "cell_type": "code",
   "execution_count": 54,
   "metadata": {},
   "outputs": [],
   "source": [
    "# Lists containing our exercises\n",
    "# Grouped by exercise type\n",
    "# Eacu tuple contains exercise name and if it needs to be done twice\n",
    "\n",
    "upperAbs = {\"Sit ups\":1,\n",
    "    \"Cyclers\":1,\n",
    "    \"V-ups\":1,\n",
    "    \"Scullers\":1,\n",
    "    \"V-Rocks\":1,\n",
    "    \"Crunches\":1,\n",
    "    \"Plank\":1,\n",
    "    \"Dead-bug\":1,\n",
    "    \"Push-ups\":1\n",
    "}\n",
    "\n",
    "lowerAbs = {\n",
    "    \"Flutter Kicks\":1,\n",
    "    \"Leg Lowers\":1,\n",
    "    \"Alternate Leg Raise\":1\n",
    "}\n",
    "\n",
    "oblique = {\n",
    "    \"Windshield Wipers\":1,\n",
    "    \"Dumbell Plank Lat Drag\":1,\n",
    "    \"Side Bend\":2,\n",
    "    \"Penguins\":1,\n",
    "    \"Seated Twist\":1,\n",
    "    \"Side Plank\":2\n",
    "    }\n",
    "\n",
    "lowerBack = {\n",
    "    \"Supermans\":1,\n",
    "    \"Kneeling Arm Leg Raise\":2,\n",
    "    \"Single Leg Bridge\":2\n",
    "    }\n",
    "\n",
    "longExtension = {\n",
    "    \"Ab rollers\":1,\n",
    "    \"Destabilized planks\":1,\n",
    "    \"Plank uppy downs\":1,\n",
    "    \"Body saws\":1,\n",
    "    \"Spidermans\":1\n",
    "    }\n",
    "\n",
    "exerciseTypes = {\"Upper abs\": upperAbs,\n",
    "    \"Lower abs\": lowerAbs,\n",
    "    \"Obliques\": oblique,\n",
    "    \"long extension\": longExtension\n",
    "                }\n"
   ]
  },
  {
   "cell_type": "code",
   "execution_count": 55,
   "metadata": {},
   "outputs": [],
   "source": [
    "import random"
   ]
  },
  {
   "cell_type": "code",
   "execution_count": 88,
   "metadata": {},
   "outputs": [],
   "source": [
    "def getnewExercise(exerciseTypeName, todaysExercises):\n",
    "    NewExercises = set(exerciseTypes[exerciseTypeName].keys())\n",
    "    possibleNewExercises = NewExercises.difference(set(todaysExercises))\n",
    "    if possibleNewExercises == set():\n",
    "        possibleNewExercises = NewExercises\n",
    "    newExercise = random.choice(list(possibleNewExercises))\n",
    "    reps = exerciseTypes[exerciseTypeName][newExercise]\n",
    "    return newExercise, reps\n",
    "\n",
    "def getSingleExercise(exerciseTypeName, todaysExercises):\n",
    "    myDict = exerciseTypes[exerciseTypeName]\n",
    "    singleRepExercises = {k: v for k, v in myDict.items() if v==1}\n",
    "    NewExercises = set(singleRepExercises.keys())\n",
    "    possibleNewExercises = NewExercises.difference(set(todaysExercises))\n",
    "    if possibleNewExercises == set():\n",
    "        possibleNewExercises = NewExercises\n",
    "    singleExercise = random.choice(list(possibleNewExercises))\n",
    "    return singleExercise\n",
    "\n",
    "secondsOn = 50\n",
    "secondsOff = 10\n",
    "\n",
    "random.seed(77)\n",
    "\n",
    "numberOfExercises = 15\n",
    "\n",
    "exerciseTypeList = list(exerciseTypes.keys())\n",
    "random.shuffle(exerciseTypeList)\n",
    "\n",
    "todaysExercises = []\n",
    "i=0\n",
    "while len(todaysExercises) < numberOfExercises:\n",
    "    exerciseTypeIndex = i % len(exerciseTypeList)\n",
    "    exerciseTypeName = exerciseTypeList[exerciseTypeIndex]\n",
    "    \n",
    "    if len(todaysExercises) < numberOfExercises-1:\n",
    "        newExercise, reps = getnewExercise(exerciseTypeName, todaysExercises)\n",
    "        for k in range(0,reps):\n",
    "            todaysExercises.append(newExercise)\n",
    "    else:\n",
    "        newExercise = getSingleExercise(exerciseTypeName, todaysExercises)\n",
    "        todaysExercises.append(newExercise)\n",
    "    i+=1"
   ]
  },
  {
   "cell_type": "code",
   "execution_count": 89,
   "metadata": {},
   "outputs": [
    {
     "data": {
      "text/plain": [
       "['Spidermans',\n",
       " 'Plank',\n",
       " 'Flutter Kicks',\n",
       " 'Seated Twist',\n",
       " 'Ab rollers',\n",
       " 'V-Rocks',\n",
       " 'Leg Lowers',\n",
       " 'Penguins',\n",
       " 'Destabilized planks',\n",
       " 'V-ups',\n",
       " 'Alternate Leg Raise',\n",
       " 'Side Plank',\n",
       " 'Side Plank',\n",
       " 'Plank uppy downs',\n",
       " 'Dead-bug']"
      ]
     },
     "execution_count": 89,
     "metadata": {},
     "output_type": "execute_result"
    }
   ],
   "source": [
    "todaysExercises"
   ]
  }
 ],
 "metadata": {
  "kernelspec": {
   "display_name": "Python 3",
   "language": "python",
   "name": "python3"
  },
  "language_info": {
   "codemirror_mode": {
    "name": "ipython",
    "version": 3
   },
   "file_extension": ".py",
   "mimetype": "text/x-python",
   "name": "python",
   "nbconvert_exporter": "python",
   "pygments_lexer": "ipython3",
   "version": "3.7.1"
  }
 },
 "nbformat": 4,
 "nbformat_minor": 2
}
